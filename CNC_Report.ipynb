{
  "nbformat": 4,
  "nbformat_minor": 0,
  "metadata": {
    "colab": {
      "provenance": [],
      "include_colab_link": true
    },
    "kernelspec": {
      "name": "python3",
      "display_name": "Python 3"
    },
    "language_info": {
      "name": "python"
    }
  },
  "cells": [
    {
      "cell_type": "markdown",
      "metadata": {
        "id": "view-in-github",
        "colab_type": "text"
      },
      "source": [
        "<a href=\"https://colab.research.google.com/github/khaylee1/Data-analysis-files-for-future-reference-/blob/main/CNC_Report.ipynb\" target=\"_parent\"><img src=\"https://colab.research.google.com/assets/colab-badge.svg\" alt=\"Open In Colab\"/></a>"
      ]
    },
    {
      "cell_type": "markdown",
      "source": [
        "#<Center><b> &nbsp;&nbsp;&nbsp;&nbsp;&nbsp;&nbsp;&nbsp;&nbsp;&nbsp;&nbsp;&nbsp;&nbsp;&nbsp;&nbsp;&nbsp;&nbsp;&nbsp;&nbsp;&nbsp;&nbsp;&nbsp;&nbsp;&nbsp;&nbsp;&nbsp;&nbsp;&nbsp;&nbsp;&nbsp;&nbsp;&nbsp;&nbsp;&nbsp;&nbsp;&nbsp;&nbsp;&nbsp;&nbsp;&nbsp; IHC Past-due Accounts Report <br><br>\n",
        "<b><i> Prepared By: Khayle Anthony L Embuscado</i></b>\n",
        "<br>&nbsp;&nbsp;&nbsp;&nbsp;&nbsp;&nbsp;&nbsp;&nbsp;&nbsp;&nbsp;&nbsp;&nbsp;&nbsp;&nbsp;&nbsp;&nbsp;&nbsp;&nbsp;&nbsp;&nbsp;&nbsp;&nbsp;&nbsp;&nbsp;&nbsp;&nbsp;&nbsp;&nbsp;&nbsp;&nbsp;&nbsp;&nbsp;&nbsp;IT Intern"
      ],
      "metadata": {
        "id": "zV6NTvJ_CEuM"
      }
    },
    {
      "cell_type": "code",
      "execution_count": null,
      "metadata": {
        "colab": {
          "base_uri": "https://localhost:8080/"
        },
        "collapsed": true,
        "id": "5GKOIYpfRsE3",
        "outputId": "6e691313-2181-45d6-820e-acf7d3fd3f38",
        "cellView": "form"
      },
      "outputs": [
        {
          "output_type": "stream",
          "name": "stdout",
          "text": [
            "Mounted at /content/drive\n"
          ]
        }
      ],
      "source": [
        "#@title\n",
        "#libraries\n",
        "import matplotlib.pyplot as plt\n",
        "import matplotlib\n",
        "import seaborn as sns\n",
        "import numpy as np\n",
        "import pandas as pd\n",
        "from google.colab import drive\n",
        "drive.mount ('/content/drive')\n",
        "%matplotlib inline"
      ]
    },
    {
      "cell_type": "code",
      "source": [
        "#            User Manual\n",
        "\n",
        "# 1.) Upload the excel file to Google Drive\n",
        "# 2.) download the excel file as CSV file\n",
        "# 3.) upload the CSV file to Google Drive\n",
        "# 4.) click the sent google colab link\n",
        "# 5.) click runtime then click run all\n",
        "# 6.) Navigate the uploaded csv file in google colab\n",
        "# 7.) copy the file path of the csv file\n",
        "# 8.) paste the file path link below\n",
        "dataset=\"/content/drive/MyDrive/OJT IHC/cnc_final.xlsx - delinquent accounts.csv\" ## paste the file path here\n",
        "market_data = pd.read_csv(dataset)\n",
        "# 9.) click runtime then click run all"
      ],
      "metadata": {
        "id": "Q3HUYZQARwdC",
        "collapsed": true,
        "cellView": "code"
      },
      "execution_count": null,
      "outputs": []
    },
    {
      "cell_type": "markdown",
      "source": [
        "#<b>Summary of Past-Due Accounts\n"
      ],
      "metadata": {
        "id": "GgfTaQ0nCl7R"
      }
    },
    {
      "cell_type": "code",
      "source": [
        "#@title\n",
        "#count of accounts\n",
        "p1_data= pd.DataFrame(market_data[market_data['Aging  (P1, P2 & P3)']==\"P1\"])\n",
        "p2_data= pd.DataFrame(market_data[market_data['Aging  (P1, P2 & P3)']==\"P2\"])\n",
        "p3_data= pd.DataFrame(market_data[market_data['Aging  (P1, P2 & P3)']==\"P3\"])\n",
        "p0_data= pd.DataFrame(market_data[market_data['Aging  (P1, P2 & P3)']==\"0\"])\n",
        "p1_total = p1_data['Project'].count()\n",
        "p2_total = p2_data['Project'].count()\n",
        "p3_total = p3_data['Project'].count()\n",
        "p0_total = p0_data['Project'].count()\n",
        "bracket_sum= p1_total+p2_total+p3_total+p0_total\n",
        "\n",
        "#Total arrears\n",
        "p1 = p1_data[' Total Arrears '].str.replace(',','',n=1).astype(float).sum()\n",
        "peso1= (format(p1,\",.1f\"))\n",
        "p2 = p2_data[' Total Arrears '].str.replace(',','',n=1).astype(float).sum()\n",
        "peso2= (format(p2,\",.1f\"))\n",
        "p3 = p3_data[' Total Arrears '].str.replace(',','',n=1).astype(float).sum()\n",
        "peso3= (format(p3,\",.1f\"))\n",
        "p0 = p0_data[' Total Arrears '].str.replace(',','',n=1).astype(float).sum()\n",
        "peso0= (format(p0,\",.1f\"))\n",
        "sum = p1+p2+p3+p0\n",
        "arrears_sum = (format(sum,\",.1f\"))\n",
        "\n",
        "# total penalty\n",
        "pen1 = p1_data['Penalty (2%)'].str.replace(',','',n=1).astype(float).sum()\n",
        "penalty1= (format(pen1,\",.1f\"))\n",
        "pen2 = p2_data['Penalty (2%)'].str.replace(',','',n=1).astype(float).sum()\n",
        "penalty2= (format(pen2,\",.1f\"))\n",
        "pen3 = p3_data['Penalty (2%)'].str.replace(',','',n=1).astype(float).sum()\n",
        "penalty3= (format(pen3,\",.1f\"))\n",
        "pen0 = p0_data['Penalty (2%)'].str.replace(',','',n=1).astype(float).sum()\n",
        "penalty0= (format(pen0,\",.1f\"))\n",
        "sum_penalty = pen1+pen2+pen3+pen0\n",
        "sum_pen= (format(sum_penalty,\",.1f\"))\n",
        "\n",
        "#Grand total\n",
        "gt1  = p1 + pen1\n",
        "gt_1 = (format(gt1,\",.1f\"))\n",
        "gt2  = p2 + pen2\n",
        "gt_2 = (format(gt2,\",.1f\"))\n",
        "gt3  = p3 + pen1\n",
        "gt_3 = (format(gt3,\",.1f\"))\n",
        "gt0  = p0 + pen0\n",
        "gt_0 = (format(gt0,\",.1f\"))\n",
        "gt_t = sum + sum_penalty\n",
        "gt_total = (format(gt_t,\",.1f\"))\n",
        "\n",
        "#DataFrame\n",
        "summary = {\n",
        "  'Bracket'  :['P1','P2','P3','Below 120','Total'],\n",
        "  'Number of Accounts'  :[p1_total,p2_total,p3_total,p0_total,bracket_sum],\n",
        "  'Total Arrears per Bracket'  :[peso1,peso2,peso3,peso0,arrears_sum],\n",
        "  'Penalty' : [penalty1,penalty2,penalty3,penalty0,sum_pen],\n",
        "  'Total Past Due' : [gt_1,gt_2,gt_3,gt_0,gt_total]\n",
        "}\n",
        "df1 = pd.DataFrame(summary)\n",
        "df1.head().style.set_table_styles(\n",
        "    [{'selector': 'th',\n",
        "      'props': [('background','#FFC733'),\n",
        "                ('color','black'),\n",
        "                ('font-family','verdana')]},\n",
        "\n",
        "     {'selector': 'td',\n",
        "       'props':[('font-family','verdana')]},\n",
        "\n",
        "     {'selector': 'tr:nth-of-type(oddd)',\n",
        "      'props':[('background','#DCDCDC')]},\n",
        "\n",
        "     {'selector': 'tr:nth-of-type(even)',\n",
        "      'props':[('background','white')]},\n",
        "\n",
        "      {'selector': 'tr:hover',\n",
        "      'props':[('background-color','#FFFC33 ')]},\n",
        "\n",
        "\n",
        "\n",
        "    ]\n",
        ").hide_index()\n"
      ],
      "metadata": {
        "colab": {
          "base_uri": "https://localhost:8080/",
          "height": 206
        },
        "id": "y1U_4-7TE_51",
        "outputId": "8366c48a-22e7-4401-f188-c28469b7d53d",
        "cellView": "form"
      },
      "execution_count": null,
      "outputs": [
        {
          "output_type": "execute_result",
          "data": {
            "text/plain": [
              "<pandas.io.formats.style.Styler at 0x7fb7a8cfa8d0>"
            ],
            "text/html": [
              "<style type=\"text/css\">\n",
              "#T_b428d_ th {\n",
              "  background: #FFC733;\n",
              "  color: black;\n",
              "  font-family: verdana;\n",
              "}\n",
              "#T_b428d_ td {\n",
              "  font-family: verdana;\n",
              "}\n",
              "#T_b428d_ tr:nth-of-type(oddd) {\n",
              "  background: #DCDCDC;\n",
              "}\n",
              "#T_b428d_ tr:nth-of-type(even) {\n",
              "  background: white;\n",
              "}\n",
              "#T_b428d_ tr:hover {\n",
              "  background-color: #FFFC33 ;\n",
              "}\n",
              "</style>\n",
              "<table id=\"T_b428d_\" class=\"dataframe\">\n",
              "  <thead>\n",
              "    <tr>\n",
              "      <th class=\"col_heading level0 col0\" >Bracket</th>\n",
              "      <th class=\"col_heading level0 col1\" >Number of Accounts</th>\n",
              "      <th class=\"col_heading level0 col2\" >Total Arrears per Bracket</th>\n",
              "      <th class=\"col_heading level0 col3\" >Penalty</th>\n",
              "      <th class=\"col_heading level0 col4\" >Total Past Due</th>\n",
              "    </tr>\n",
              "  </thead>\n",
              "  <tbody>\n",
              "    <tr>\n",
              "      <td id=\"T_b428d_row0_col0\" class=\"data row0 col0\" >P1</td>\n",
              "      <td id=\"T_b428d_row0_col1\" class=\"data row0 col1\" >10</td>\n",
              "      <td id=\"T_b428d_row0_col2\" class=\"data row0 col2\" >458,048.3</td>\n",
              "      <td id=\"T_b428d_row0_col3\" class=\"data row0 col3\" >5,296.7</td>\n",
              "      <td id=\"T_b428d_row0_col4\" class=\"data row0 col4\" >463,345.0</td>\n",
              "    </tr>\n",
              "    <tr>\n",
              "      <td id=\"T_b428d_row1_col0\" class=\"data row1 col0\" >P2</td>\n",
              "      <td id=\"T_b428d_row1_col1\" class=\"data row1 col1\" >14</td>\n",
              "      <td id=\"T_b428d_row1_col2\" class=\"data row1 col2\" >950,421.8</td>\n",
              "      <td id=\"T_b428d_row1_col3\" class=\"data row1 col3\" >13,520.0</td>\n",
              "      <td id=\"T_b428d_row1_col4\" class=\"data row1 col4\" >963,941.8</td>\n",
              "    </tr>\n",
              "    <tr>\n",
              "      <td id=\"T_b428d_row2_col0\" class=\"data row2 col0\" >P3</td>\n",
              "      <td id=\"T_b428d_row2_col1\" class=\"data row2 col1\" >78</td>\n",
              "      <td id=\"T_b428d_row2_col2\" class=\"data row2 col2\" >5,915,866.5</td>\n",
              "      <td id=\"T_b428d_row2_col3\" class=\"data row2 col3\" >273,466.7</td>\n",
              "      <td id=\"T_b428d_row2_col4\" class=\"data row2 col4\" >5,921,163.2</td>\n",
              "    </tr>\n",
              "    <tr>\n",
              "      <td id=\"T_b428d_row3_col0\" class=\"data row3 col0\" >Below 120</td>\n",
              "      <td id=\"T_b428d_row3_col1\" class=\"data row3 col1\" >0</td>\n",
              "      <td id=\"T_b428d_row3_col2\" class=\"data row3 col2\" >0.0</td>\n",
              "      <td id=\"T_b428d_row3_col3\" class=\"data row3 col3\" >0.0</td>\n",
              "      <td id=\"T_b428d_row3_col4\" class=\"data row3 col4\" >0.0</td>\n",
              "    </tr>\n",
              "    <tr>\n",
              "      <td id=\"T_b428d_row4_col0\" class=\"data row4 col0\" >Total</td>\n",
              "      <td id=\"T_b428d_row4_col1\" class=\"data row4 col1\" >102</td>\n",
              "      <td id=\"T_b428d_row4_col2\" class=\"data row4 col2\" >7,324,336.6</td>\n",
              "      <td id=\"T_b428d_row4_col3\" class=\"data row4 col3\" >292,283.3</td>\n",
              "      <td id=\"T_b428d_row4_col4\" class=\"data row4 col4\" >7,616,619.9</td>\n",
              "    </tr>\n",
              "  </tbody>\n",
              "</table>\n"
            ]
          },
          "metadata": {},
          "execution_count": 3
        }
      ]
    },
    {
      "cell_type": "markdown",
      "source": [
        "#<b>Data Visualization for Total Arrears\n",
        "\n"
      ],
      "metadata": {
        "id": "XMzZ4lVP7Dip"
      }
    },
    {
      "cell_type": "code",
      "source": [
        "#@title\n",
        "\n",
        "summary2 = {\n",
        "  'Bracket'  :['P1','P2','P3','Below 120','Total'],\n",
        "  'Number of Accounts per Bracket'  :[p1_total,p2_total,p3_total,p0_total,bracket_sum],\n",
        "  'Total Arrears'  :[p1,p2,p3,p0,sum],\n",
        "  'Penalty' : [pen1,pen2,pen3,pen0,sum_penalty],\n",
        "  'Grand Total' : [gt1,gt2,gt3,gt0,gt_t]\n",
        "}\n",
        "df2 = pd.DataFrame(summary2)\n",
        "\n",
        "\n",
        "fig, ax = plt.subplots(figsize=(10,8))\n",
        "sns.barplot(\"Bracket\",\"Total Arrears\", data = df2, ax=ax, palette = \"Wistia\")\n",
        "plt.xticks(fontsize=12)\n",
        "plt.yticks(fontsize=12)\n",
        "ax.set_xlabel('Bracket', fontsize=18)\n",
        "ax.set_ylabel('Amount(In Millions )', fontsize=18)\n",
        "ax.set_title('Total Arrears for each Group', fontsize=20)\n",
        "plt.text(0,df2[ 'Total Arrears' ][0], peso1, ha= \"center\", va = \"bottom\" )\n",
        "plt.text(1,df2[ 'Total Arrears' ][1], peso2, ha= \"center\", va = \"bottom\" )\n",
        "plt.text(2,df2[ 'Total Arrears' ][2], peso3, ha= \"center\", va = \"bottom\" )\n",
        "plt.text(3,df2[ 'Total Arrears' ][3], peso0, ha= \"center\", va = \"bottom\" )\n",
        "plt.text(4,df2[ 'Total Arrears' ][4], arrears_sum , ha= \"center\", va = \"bottom\" )\n",
        "plt.show()\n"
      ],
      "metadata": {
        "colab": {
          "base_uri": "https://localhost:8080/",
          "height": 584
        },
        "id": "7L2KZBcTQXA4",
        "outputId": "6f385353-4692-4845-db84-c1f2bde9fdba",
        "cellView": "form"
      },
      "execution_count": null,
      "outputs": [
        {
          "output_type": "stream",
          "name": "stderr",
          "text": [
            "/usr/local/lib/python3.7/dist-packages/seaborn/_decorators.py:43: FutureWarning: Pass the following variables as keyword args: x, y. From version 0.12, the only valid positional argument will be `data`, and passing other arguments without an explicit keyword will result in an error or misinterpretation.\n",
            "  FutureWarning\n"
          ]
        },
        {
          "output_type": "display_data",
          "data": {
            "text/plain": [
              "<Figure size 720x576 with 1 Axes>"
            ],
            "image/png": "[encoded data removed]"
          },
          "metadata": {
            "needs_background": "light"
          }
        }
      ]
    },
    {
      "cell_type": "markdown",
      "source": [
        "#<b>Data Visualization for Penalty of Accounts\n",
        "\n"
      ],
      "metadata": {
        "id": "_zFmjQIU7ldQ"
      }
    },
    {
      "cell_type": "code",
      "source": [
        "#@title\n",
        "fig, ax = plt.subplots(figsize=(10,8))\n",
        "sns.barplot(\"Bracket\",\"Penalty\", data = df2, ax=ax, palette = \"Wistia\")\n",
        "plt.xticks(fontsize=12)\n",
        "plt.yticks(fontsize=12)\n",
        "ax.set_xlabel('Bracket', fontsize=18)\n",
        "ax.set_ylabel('Amount', fontsize=18)\n",
        "ax.set_title('Penalty for each Group', fontsize=20)\n",
        "plt.text(0,df2[ 'Penalty' ][0], penalty1, ha= \"center\", va = \"bottom\" )\n",
        "plt.text(1,df2[ 'Penalty' ][1], penalty2, ha= \"center\", va = \"bottom\" )\n",
        "plt.text(2,df2[ 'Penalty' ][2], penalty3, ha= \"center\", va = \"bottom\" )\n",
        "plt.text(3,df2[ 'Penalty' ][3], penalty0, ha= \"center\", va = \"bottom\" )\n",
        "plt.text(4,df2[ 'Penalty' ][4], sum_pen , ha= \"center\", va = \"bottom\" )\n",
        "plt.show()\n"
      ],
      "metadata": {
        "colab": {
          "base_uri": "https://localhost:8080/",
          "height": 584
        },
        "id": "8uOeeffY7lsg",
        "outputId": "73843f76-e8da-4673-adcf-6a8a82fed872",
        "cellView": "form"
      },
      "execution_count": null,
      "outputs": [
        {
          "output_type": "stream",
          "name": "stderr",
          "text": [
            "/usr/local/lib/python3.7/dist-packages/seaborn/_decorators.py:43: FutureWarning: Pass the following variables as keyword args: x, y. From version 0.12, the only valid positional argument will be `data`, and passing other arguments without an explicit keyword will result in an error or misinterpretation.\n",
            "  FutureWarning\n"
          ]
        },
        {
          "output_type": "display_data",
          "data": {
            "text/plain": [
              "<Figure size 720x576 with 1 Axes>"
            ],
            "image/png": "[encoded data removed]"
          },
          "metadata": {
            "needs_background": "light"
          }
        }
      ]
    },
    {
      "cell_type": "markdown",
      "source": [
        "# <b>Data Visualization of Past-due Accounts\n",
        "\n",
        "---\n",
        "\n"
      ],
      "metadata": {
        "id": "vcORNnqQL8wr"
      }
    },
    {
      "cell_type": "code",
      "source": [
        "#@title\n",
        "fig, ax = plt.subplots(figsize=(10,8))\n",
        "sns.barplot(\"Bracket\",\"Number of Accounts per Bracket\", data = df2, ax=ax, palette = \"Wistia\")\n",
        "plt.xticks(fontsize=12)\n",
        "plt.yticks(fontsize=12)\n",
        "ax.set_xlabel('Bracket', fontsize=18)\n",
        "ax.set_ylabel('Number of Accounts', fontsize=18)\n",
        "ax.set_title('Number of Past Due Accounts per Group', fontsize=20)\n",
        "plt.text(0,df2[ 'Number of Accounts per Bracket' ][0], p1_total, ha= \"center\", va = \"bottom\" )\n",
        "plt.text(1,df2[ 'Number of Accounts per Bracket' ][1], p2_total, ha= \"center\", va = \"bottom\" )\n",
        "plt.text(2,df2[ 'Number of Accounts per Bracket' ][2], p3_total, ha= \"center\", va = \"bottom\" )\n",
        "plt.text(3,df2[ 'Number of Accounts per Bracket' ][3], p0_total, ha= \"center\", va = \"bottom\" )\n",
        "plt.text(4,df2[ 'Number of Accounts per Bracket' ][4], bracket_sum, ha= \"center\", va = \"bottom\" )\n",
        "\n"
      ],
      "metadata": {
        "colab": {
          "base_uri": "https://localhost:8080/",
          "height": 601
        },
        "id": "ATl-mwObxnM1",
        "outputId": "bdbf6fc0-021e-4d47-8f9f-08bdb71b47f0",
        "cellView": "form"
      },
      "execution_count": null,
      "outputs": [
        {
          "output_type": "stream",
          "name": "stderr",
          "text": [
            "/usr/local/lib/python3.7/dist-packages/seaborn/_decorators.py:43: FutureWarning: Pass the following variables as keyword args: x, y. From version 0.12, the only valid positional argument will be `data`, and passing other arguments without an explicit keyword will result in an error or misinterpretation.\n",
            "  FutureWarning\n"
          ]
        },
        {
          "output_type": "execute_result",
          "data": {
            "text/plain": [
              "Text(4, 102, '102')"
            ]
          },
          "metadata": {},
          "execution_count": 6
        },
        {
          "output_type": "display_data",
          "data": {
            "text/plain": [
              "<Figure size 720x576 with 1 Axes>"
            ],
            "image/png": "[encoded data removed]"
          },
          "metadata": {
            "needs_background": "light"
          }
        }
      ]
    },
    {
      "cell_type": "markdown",
      "source": [
        "# <b>Past-Due Accounts on Bracket P1"
      ],
      "metadata": {
        "id": "DsomOgonTMWz"
      }
    },
    {
      "cell_type": "code",
      "source": [
        "#@title\n",
        "p1_float =p1_data['Total Past Due'] = p1_data['Total Past Due'].str.replace(',','',n=1).astype(float)\n"
      ],
      "metadata": {
        "id": "bsXlWBHgnFrP",
        "cellView": "form"
      },
      "execution_count": null,
      "outputs": []
    },
    {
      "cell_type": "code",
      "source": [
        "#@title\n",
        "\n",
        "#data frame\n",
        "p1_data.sort_values('Total Past Due',ascending=False).head(5)\n",
        "\n",
        "##for display\n",
        "#total past due\n",
        "sorted_p1 = pd.DataFrame(p1_data.sort_values('Total Past Due',ascending=False).head(5))\n",
        "sp1_1 = sorted_p1.values[0][26]\n",
        "sp1_2= sorted_p1.values[1][26]\n",
        "sp1_3= sorted_p1.values[2][26]\n",
        "sp1_4= sorted_p1.values[3][26]\n",
        "sp1_5= sorted_p1.values[4][26]\n",
        "fp1_1=(format(sp1_1,\",.1f\"))\n",
        "fp1_2=(format(sp1_2,\",.1f\"))\n",
        "fp1_3=(format(sp1_3,\",.1f\"))\n",
        "fp1_4=(format(sp1_4,\",.1f\"))\n",
        "fp1_5=(format(sp1_5,\",.1f\"))\n",
        "\n",
        "#name\n",
        "np1_1 = sorted_p1.values[0][4]\n",
        "np1_2 = sorted_p1.values[1][4]\n",
        "np1_3 = sorted_p1.values[2][4]\n",
        "np1_4 = sorted_p1.values[3][4]\n",
        "np1_5 = sorted_p1.values[4][4]\n",
        "\n",
        "\n",
        "#due date\n",
        "dp1_1 = sorted_p1.values[0][13]\n",
        "dp1_2 = sorted_p1.values[1][13]\n",
        "dp1_3 = sorted_p1.values[2][13]\n",
        "dp1_4 = sorted_p1.values[3][13]\n",
        "dp1_5 = sorted_p1.values[4][13]\n",
        "\n",
        "#last date paid\n",
        "lp1_1=sorted_p1.values[0][17]\n",
        "lp1_2 = sorted_p1.values[1][17]\n",
        "lp1_3 = sorted_p1.values[2][17]\n",
        "lp1_4 = sorted_p1.values[3][17]\n",
        "lp1_5 = sorted_p1.values[4][17]\n",
        "\n",
        "#DataFrame\n",
        "p1_sorted = {\n",
        "  'Name'  :[np1_1,np1_2,np1_3,np1_4,np1_5],\n",
        "  'No. Past Due (in Days)'  :[dp1_1,dp1_2,dp1_3,dp1_4,dp1_5],\n",
        "  'Last Date Paid'  :[lp1_1,lp1_2,lp1_3,lp1_4,lp1_5],\n",
        "  'Total Past Due' : [fp1_1,fp1_2,fp1_3,fp1_4,fp1_5]\n",
        "}\n",
        "df_p1_sorted = pd.DataFrame(p1_sorted)\n",
        "df_p1_sorted.head().style.set_table_styles(\n",
        "    [{'selector': 'th',\n",
        "      'props': [('background','#FFC733'),\n",
        "                ('color','black'),\n",
        "                ('font-family','verdana')]},\n",
        "\n",
        "     {'selector': 'td',\n",
        "       'props':[('font-family','verdana')]},\n",
        "\n",
        "     {'selector': 'tr:nth-of-type(oddd)',\n",
        "      'props':[('background','#DCDCDC')]},\n",
        "\n",
        "     {'selector': 'tr:nth-of-type(even)',\n",
        "      'props':[('background','white')]},\n",
        "\n",
        "      {'selector': 'tr:hover',\n",
        "      'props':[('background-color','#FFFC33 ')]},\n",
        "\n",
        "\n",
        "\n",
        "    ]\n",
        ").hide_index()\n"
      ],
      "metadata": {
        "cellView": "form",
        "id": "L6EwKayOMflN",
        "colab": {
          "base_uri": "https://localhost:8080/",
          "height": 206
        },
        "outputId": "46fbe2c3-bab4-4180-8fd5-f6f982b145fc"
      },
      "execution_count": null,
      "outputs": [
        {
          "output_type": "execute_result",
          "data": {
            "text/plain": [
              "<pandas.io.formats.style.Styler at 0x7fb7a830e490>"
            ],
            "text/html": [
              "<style type=\"text/css\">\n",
              "#T_d92b6_ th {\n",
              "  background: #FFC733;\n",
              "  color: black;\n",
              "  font-family: verdana;\n",
              "}\n",
              "#T_d92b6_ td {\n",
              "  font-family: verdana;\n",
              "}\n",
              "#T_d92b6_ tr:nth-of-type(oddd) {\n",
              "  background: #DCDCDC;\n",
              "}\n",
              "#T_d92b6_ tr:nth-of-type(even) {\n",
              "  background: white;\n",
              "}\n",
              "#T_d92b6_ tr:hover {\n",
              "  background-color: #FFFC33 ;\n",
              "}\n",
              "</style>\n",
              "<table id=\"T_d92b6_\" class=\"dataframe\">\n",
              "  <thead>\n",
              "    <tr>\n",
              "      <th class=\"col_heading level0 col0\" >Name</th>\n",
              "      <th class=\"col_heading level0 col1\" >No. Past Due (in Days)</th>\n",
              "      <th class=\"col_heading level0 col2\" >Last Date Paid</th>\n",
              "      <th class=\"col_heading level0 col3\" >Total Past Due</th>\n",
              "    </tr>\n",
              "  </thead>\n",
              "  <tbody>\n",
              "    <tr>\n",
              "      <td id=\"T_d92b6_row0_col0\" class=\"data row0 col0\" >KIAK, CHARLIE</td>\n",
              "      <td id=\"T_d92b6_row0_col1\" class=\"data row0 col1\" >121</td>\n",
              "      <td id=\"T_d92b6_row0_col2\" class=\"data row0 col2\" >3/25/2022</td>\n",
              "      <td id=\"T_d92b6_row0_col3\" class=\"data row0 col3\" >144,723.4</td>\n",
              "    </tr>\n",
              "    <tr>\n",
              "      <td id=\"T_d92b6_row1_col0\" class=\"data row1 col0\" >LOPENA, RUCIEL MARIE</td>\n",
              "      <td id=\"T_d92b6_row1_col1\" class=\"data row1 col1\" >174</td>\n",
              "      <td id=\"T_d92b6_row1_col2\" class=\"data row1 col2\" >1/31/2022</td>\n",
              "      <td id=\"T_d92b6_row1_col3\" class=\"data row1 col3\" >59,521.4</td>\n",
              "    </tr>\n",
              "    <tr>\n",
              "      <td id=\"T_d92b6_row2_col0\" class=\"data row2 col0\" >PRESENTACION, JOSEPHINE</td>\n",
              "      <td id=\"T_d92b6_row2_col1\" class=\"data row2 col1\" >152</td>\n",
              "      <td id=\"T_d92b6_row2_col2\" class=\"data row2 col2\" >2/22/2022</td>\n",
              "      <td id=\"T_d92b6_row2_col3\" class=\"data row2 col3\" >50,004.6</td>\n",
              "    </tr>\n",
              "    <tr>\n",
              "      <td id=\"T_d92b6_row3_col0\" class=\"data row3 col0\" >RIZO, MOLINA</td>\n",
              "      <td id=\"T_d92b6_row3_col1\" class=\"data row3 col1\" >142</td>\n",
              "      <td id=\"T_d92b6_row3_col2\" class=\"data row3 col2\" >3/4/2022</td>\n",
              "      <td id=\"T_d92b6_row3_col3\" class=\"data row3 col3\" >37,631.0</td>\n",
              "    </tr>\n",
              "    <tr>\n",
              "      <td id=\"T_d92b6_row4_col0\" class=\"data row4 col0\" >MARCELINO, AIZA</td>\n",
              "      <td id=\"T_d92b6_row4_col1\" class=\"data row4 col1\" >174</td>\n",
              "      <td id=\"T_d92b6_row4_col2\" class=\"data row4 col2\" >1/31/2022</td>\n",
              "      <td id=\"T_d92b6_row4_col3\" class=\"data row4 col3\" >36,140.6</td>\n",
              "    </tr>\n",
              "  </tbody>\n",
              "</table>\n"
            ]
          },
          "metadata": {},
          "execution_count": 8
        }
      ]
    },
    {
      "cell_type": "markdown",
      "source": [
        "# <b>Top 5 Past-Due Accounts on Bracket P2"
      ],
      "metadata": {
        "id": "Uw7GflLLTY3B"
      }
    },
    {
      "cell_type": "code",
      "source": [
        "#@title\n",
        "p2_float =p2_data['Total Past Due'] = p2_data['Total Past Due'].str.replace(',','',n=1).astype(float)\n"
      ],
      "metadata": {
        "cellView": "form",
        "id": "As4FUe_lR7jL"
      },
      "execution_count": null,
      "outputs": []
    },
    {
      "cell_type": "code",
      "source": [
        "#@title\n",
        "#data frame\n",
        "p2_data.sort_values('Total Past Due',ascending=False).head(5)\n",
        "\n",
        "##for display\n",
        "#total past due\n",
        "sorted_p2 = pd.DataFrame(p2_data.sort_values('Total Past Due',ascending=False).head(5))\n",
        "sp2_1 = sorted_p2.values[0][26]\n",
        "sp2_2= sorted_p2.values[1][26]\n",
        "sp2_3= sorted_p2.values[2][26]\n",
        "sp2_4= sorted_p2.values[3][26]\n",
        "sp2_5= sorted_p2.values[4][26]\n",
        "fp2_1=(format(sp2_1,\",.1f\"))\n",
        "fp2_2=(format(sp2_2,\",.1f\"))\n",
        "fp2_3=(format(sp2_3,\",.1f\"))\n",
        "fp2_4=(format(sp2_4,\",.1f\"))\n",
        "fp2_5=(format(sp2_5,\",.1f\"))\n",
        "\n",
        "#name\n",
        "np2_1 = sorted_p2.values[0][4]\n",
        "np2_2 = sorted_p2.values[1][4]\n",
        "np2_3 = sorted_p2.values[2][4]\n",
        "np2_4 = sorted_p2.values[3][4]\n",
        "np2_5 = sorted_p2.values[4][4]\n",
        "\n",
        "\n",
        "#due date\n",
        "dp2_1 = sorted_p2.values[0][13]\n",
        "dp2_2 = sorted_p2.values[1][13]\n",
        "dp2_3 = sorted_p2.values[2][13]\n",
        "dp2_4 = sorted_p2.values[3][13]\n",
        "dp2_5 = sorted_p2.values[4][13]\n",
        "\n",
        "#last date paid\n",
        "lp2_1=sorted_p2.values[0][17]\n",
        "lp2_2 = sorted_p2.values[1][17]\n",
        "lp2_3 = sorted_p2.values[2][17]\n",
        "lp2_4 = sorted_p2.values[3][17]\n",
        "lp2_5 = sorted_p2.values[4][17]\n",
        "\n",
        "#DataFrame\n",
        "p2_sorted = {\n",
        "  'Name'  :[np2_1,np2_2,np2_3,np2_4,np2_5],\n",
        "  'No. Past Due (in Days)'  :[dp2_1,dp2_2,dp2_3,dp2_4,dp2_5],\n",
        "  'Last Date Paid'  :[lp2_1,lp2_2,lp2_3,lp2_4,lp2_5],\n",
        "  'Total Past Due' : [fp2_1,fp2_2,fp2_3,fp2_4,fp2_5]\n",
        "}\n",
        "df_p2_sorted = pd.DataFrame(p2_sorted)\n",
        "df_p2_sorted.head().style.set_table_styles(\n",
        "    [{'selector': 'th',\n",
        "      'props': [('background','#FFC733'),\n",
        "                ('color','black'),\n",
        "                ('font-family','verdana')]},\n",
        "\n",
        "     {'selector': 'td',\n",
        "       'props':[('font-family','verdana')]},\n",
        "\n",
        "     {'selector': 'tr:nth-of-type(oddd)',\n",
        "      'props':[('background','#DCDCDC')]},\n",
        "\n",
        "     {'selector': 'tr:nth-of-type(even)',\n",
        "      'props':[('background','white')]},\n",
        "\n",
        "      {'selector': 'tr:hover',\n",
        "      'props':[('background-color','#FFFC33 ')]},\n",
        "\n",
        "\n",
        "\n",
        "    ]\n",
        ").hide_index()\n"
      ],
      "metadata": {
        "cellView": "form",
        "id": "FAG4oDOGPMST",
        "colab": {
          "base_uri": "https://localhost:8080/",
          "height": 206
        },
        "outputId": "f598e24e-21b9-45d1-bc22-8616588a508f"
      },
      "execution_count": null,
      "outputs": [
        {
          "output_type": "execute_result",
          "data": {
            "text/plain": [
              "<pandas.io.formats.style.Styler at 0x7fb7a830ea10>"
            ],
            "text/html": [
              "<style type=\"text/css\">\n",
              "#T_f093a_ th {\n",
              "  background: #FFC733;\n",
              "  color: black;\n",
              "  font-family: verdana;\n",
              "}\n",
              "#T_f093a_ td {\n",
              "  font-family: verdana;\n",
              "}\n",
              "#T_f093a_ tr:nth-of-type(oddd) {\n",
              "  background: #DCDCDC;\n",
              "}\n",
              "#T_f093a_ tr:nth-of-type(even) {\n",
              "  background: white;\n",
              "}\n",
              "#T_f093a_ tr:hover {\n",
              "  background-color: #FFFC33 ;\n",
              "}\n",
              "</style>\n",
              "<table id=\"T_f093a_\" class=\"dataframe\">\n",
              "  <thead>\n",
              "    <tr>\n",
              "      <th class=\"col_heading level0 col0\" >Name</th>\n",
              "      <th class=\"col_heading level0 col1\" >No. Past Due (in Days)</th>\n",
              "      <th class=\"col_heading level0 col2\" >Last Date Paid</th>\n",
              "      <th class=\"col_heading level0 col3\" >Total Past Due</th>\n",
              "    </tr>\n",
              "  </thead>\n",
              "  <tbody>\n",
              "    <tr>\n",
              "      <td id=\"T_f093a_row0_col0\" class=\"data row0 col0\" >ALAMAG, CRISELDA</td>\n",
              "      <td id=\"T_f093a_row0_col1\" class=\"data row0 col1\" >363</td>\n",
              "      <td id=\"T_f093a_row0_col2\" class=\"data row0 col2\" >7/26/2021</td>\n",
              "      <td id=\"T_f093a_row0_col3\" class=\"data row0 col3\" >137,288.0</td>\n",
              "    </tr>\n",
              "    <tr>\n",
              "      <td id=\"T_f093a_row1_col0\" class=\"data row1 col0\" >GENEBLAZO, ANA LIZA</td>\n",
              "      <td id=\"T_f093a_row1_col1\" class=\"data row1 col1\" >227</td>\n",
              "      <td id=\"T_f093a_row1_col2\" class=\"data row1 col2\" >12/9/2021</td>\n",
              "      <td id=\"T_f093a_row1_col3\" class=\"data row1 col3\" >116,430.4</td>\n",
              "    </tr>\n",
              "    <tr>\n",
              "      <td id=\"T_f093a_row2_col0\" class=\"data row2 col0\" >LIBRIDO, MERLINDA</td>\n",
              "      <td id=\"T_f093a_row2_col1\" class=\"data row2 col1\" >326</td>\n",
              "      <td id=\"T_f093a_row2_col2\" class=\"data row2 col2\" >9/1/2021</td>\n",
              "      <td id=\"T_f093a_row2_col3\" class=\"data row2 col3\" >100,702.0</td>\n",
              "    </tr>\n",
              "    <tr>\n",
              "      <td id=\"T_f093a_row3_col0\" class=\"data row3 col0\" >ABRATIGUE, MINERVA</td>\n",
              "      <td id=\"T_f093a_row3_col1\" class=\"data row3 col1\" >215</td>\n",
              "      <td id=\"T_f093a_row3_col2\" class=\"data row3 col2\" >12/21/2021</td>\n",
              "      <td id=\"T_f093a_row3_col3\" class=\"data row3 col3\" >100,224.9</td>\n",
              "    </tr>\n",
              "    <tr>\n",
              "      <td id=\"T_f093a_row4_col0\" class=\"data row4 col0\" >ABRATIGUE, MINERVA</td>\n",
              "      <td id=\"T_f093a_row4_col1\" class=\"data row4 col1\" >215</td>\n",
              "      <td id=\"T_f093a_row4_col2\" class=\"data row4 col2\" >12/21/2021</td>\n",
              "      <td id=\"T_f093a_row4_col3\" class=\"data row4 col3\" >92,049.4</td>\n",
              "    </tr>\n",
              "  </tbody>\n",
              "</table>\n"
            ]
          },
          "metadata": {},
          "execution_count": 10
        }
      ]
    },
    {
      "cell_type": "markdown",
      "source": [
        "# <b>Top 5 Past-Due Accounts on Bracket P3"
      ],
      "metadata": {
        "id": "ct9xF2FaTfIl"
      }
    },
    {
      "cell_type": "code",
      "source": [
        "#@title\n",
        "p3_float =p3_data['Total Past Due'] = p3_data['Total Past Due'].str.replace(',','',n=1).astype(float)\n"
      ],
      "metadata": {
        "cellView": "form",
        "id": "0HebTBr-SPMA"
      },
      "execution_count": null,
      "outputs": []
    },
    {
      "cell_type": "code",
      "source": [
        "#@title\n",
        "#data frame\n",
        "p2_data.sort_values('Total Past Due',ascending=False).head(5)\n",
        "\n",
        "##for display\n",
        "#total past due\n",
        "sorted_p3 = pd.DataFrame(p3_data.sort_values('Total Past Due',ascending=False).head(5))\n",
        "sp3_1 = sorted_p3.values[0][26]\n",
        "sp3_2= sorted_p3.values[1][26]\n",
        "sp3_3= sorted_p3.values[2][26]\n",
        "sp3_4= sorted_p3.values[3][26]\n",
        "sp3_5= sorted_p3.values[4][26]\n",
        "fp3_1=(format(sp3_1,\",.1f\"))\n",
        "fp3_2=(format(sp3_2,\",.1f\"))\n",
        "fp3_3=(format(sp3_3,\",.1f\"))\n",
        "fp3_4=(format(sp3_4,\",.1f\"))\n",
        "fp3_5=(format(sp3_5,\",.1f\"))\n",
        "\n",
        "#name\n",
        "np3_1 = sorted_p3.values[0][4]\n",
        "np3_2 = sorted_p3.values[1][4]\n",
        "np3_3 = sorted_p3.values[2][4]\n",
        "np3_4 = sorted_p3.values[3][4]\n",
        "np3_5 = sorted_p3.values[4][4]\n",
        "\n",
        "\n",
        "#due date\n",
        "dp3_1 = sorted_p3.values[0][13]\n",
        "dp3_2 = sorted_p3.values[1][13]\n",
        "dp3_3 = sorted_p3.values[2][13]\n",
        "dp3_4 = sorted_p3.values[3][13]\n",
        "dp3_5 = sorted_p3.values[4][13]\n",
        "\n",
        "#last date paid\n",
        "lp3_1=sorted_p3.values[0][17]\n",
        "lp3_2 = sorted_p3.values[1][17]\n",
        "lp3_3 = sorted_p3.values[2][17]\n",
        "lp3_4 = sorted_p3.values[3][17]\n",
        "lp3_5 = sorted_p3.values[4][17]\n",
        "\n",
        "#DataFrame\n",
        "p3_sorted = {\n",
        "  'Name'  :[np3_1,np3_2,np3_3,np3_4,np3_5],\n",
        "  'No. Past Due (in Days)'  :[dp3_1,dp3_2,dp3_3,dp3_4,dp3_5],\n",
        "  'Last Date Paid'  :[lp3_1,lp3_2,lp3_3,lp3_4,lp3_5],\n",
        "  'Total Past Due' : [fp3_1,fp3_2,fp3_3,fp3_4,fp3_5]\n",
        "}\n",
        "df_p3_sorted = pd.DataFrame(p3_sorted)\n",
        "df_p3_sorted.head().style.set_table_styles(\n",
        "    [{'selector': 'th',\n",
        "      'props': [('background','#FFC733'),\n",
        "                ('color','black'),\n",
        "                ('font-family','verdana')]},\n",
        "\n",
        "     {'selector': 'td',\n",
        "       'props':[('font-family','verdana')]},\n",
        "\n",
        "     {'selector': 'tr:nth-of-type(oddd)',\n",
        "      'props':[('background','#DCDCDC')]},\n",
        "\n",
        "     {'selector': 'tr:nth-of-type(even)',\n",
        "      'props':[('background','white')]},\n",
        "\n",
        "      {'selector': 'tr:hover',\n",
        "      'props':[('background-color','#FFFC33 ')]},\n",
        "\n",
        "\n",
        "\n",
        "    ]\n",
        ").hide_index()\n"
      ],
      "metadata": {
        "cellView": "form",
        "id": "KzVAHONnPPL7",
        "colab": {
          "base_uri": "https://localhost:8080/",
          "height": 206
        },
        "outputId": "c9a80863-87fe-4b75-ade0-6d888f83ba7a"
      },
      "execution_count": null,
      "outputs": [
        {
          "output_type": "execute_result",
          "data": {
            "text/plain": [
              "<pandas.io.formats.style.Styler at 0x7fb7a82f4810>"
            ],
            "text/html": [
              "<style type=\"text/css\">\n",
              "#T_8ff90_ th {\n",
              "  background: #FFC733;\n",
              "  color: black;\n",
              "  font-family: verdana;\n",
              "}\n",
              "#T_8ff90_ td {\n",
              "  font-family: verdana;\n",
              "}\n",
              "#T_8ff90_ tr:nth-of-type(oddd) {\n",
              "  background: #DCDCDC;\n",
              "}\n",
              "#T_8ff90_ tr:nth-of-type(even) {\n",
              "  background: white;\n",
              "}\n",
              "#T_8ff90_ tr:hover {\n",
              "  background-color: #FFFC33 ;\n",
              "}\n",
              "</style>\n",
              "<table id=\"T_8ff90_\" class=\"dataframe\">\n",
              "  <thead>\n",
              "    <tr>\n",
              "      <th class=\"col_heading level0 col0\" >Name</th>\n",
              "      <th class=\"col_heading level0 col1\" >No. Past Due (in Days)</th>\n",
              "      <th class=\"col_heading level0 col2\" >Last Date Paid</th>\n",
              "      <th class=\"col_heading level0 col3\" >Total Past Due</th>\n",
              "    </tr>\n",
              "  </thead>\n",
              "  <tbody>\n",
              "    <tr>\n",
              "      <td id=\"T_8ff90_row0_col0\" class=\"data row0 col0\" >REOTERAS, CHRISTINE</td>\n",
              "      <td id=\"T_8ff90_row0_col1\" class=\"data row0 col1\" >1,018</td>\n",
              "      <td id=\"T_8ff90_row0_col2\" class=\"data row0 col2\" >10/10/2019</td>\n",
              "      <td id=\"T_8ff90_row0_col3\" class=\"data row0 col3\" >432,671.3</td>\n",
              "    </tr>\n",
              "    <tr>\n",
              "      <td id=\"T_8ff90_row1_col0\" class=\"data row1 col0\" >ALORO, ROJE</td>\n",
              "      <td id=\"T_8ff90_row1_col1\" class=\"data row1 col1\" >1,213</td>\n",
              "      <td id=\"T_8ff90_row1_col2\" class=\"data row1 col2\" >3/29/2019</td>\n",
              "      <td id=\"T_8ff90_row1_col3\" class=\"data row1 col3\" >409,736.0</td>\n",
              "    </tr>\n",
              "    <tr>\n",
              "      <td id=\"T_8ff90_row2_col0\" class=\"data row2 col0\" >BERGANTE, LUIS REX</td>\n",
              "      <td id=\"T_8ff90_row2_col1\" class=\"data row2 col1\" >815</td>\n",
              "      <td id=\"T_8ff90_row2_col2\" class=\"data row2 col2\" >4/30/2020</td>\n",
              "      <td id=\"T_8ff90_row2_col3\" class=\"data row2 col3\" >397,433.8</td>\n",
              "    </tr>\n",
              "    <tr>\n",
              "      <td id=\"T_8ff90_row3_col0\" class=\"data row3 col0\" >ARTIGA, RITCHIE</td>\n",
              "      <td id=\"T_8ff90_row3_col1\" class=\"data row3 col1\" >971</td>\n",
              "      <td id=\"T_8ff90_row3_col2\" class=\"data row3 col2\" >11/26/2019</td>\n",
              "      <td id=\"T_8ff90_row3_col3\" class=\"data row3 col3\" >263,853.8</td>\n",
              "    </tr>\n",
              "    <tr>\n",
              "      <td id=\"T_8ff90_row4_col0\" class=\"data row4 col0\" >NEIS, JAZELLE</td>\n",
              "      <td id=\"T_8ff90_row4_col1\" class=\"data row4 col1\" >734</td>\n",
              "      <td id=\"T_8ff90_row4_col2\" class=\"data row4 col2\" >7/20/2020</td>\n",
              "      <td id=\"T_8ff90_row4_col3\" class=\"data row4 col3\" >246,359.9</td>\n",
              "    </tr>\n",
              "  </tbody>\n",
              "</table>\n"
            ]
          },
          "metadata": {},
          "execution_count": 12
        }
      ]
    },
    {
      "cell_type": "markdown",
      "source": [
        "#<b> Aging Summary\n"
      ],
      "metadata": {
        "id": "yb1oNaqKMo_5"
      }
    },
    {
      "cell_type": "code",
      "source": [
        "#@title\n",
        "conditions = [\n",
        "              (market_data['No. of Past due (in days)'].str.replace(',','',n=1).astype(float)<30),\n",
        "              (market_data['No. of Past due (in days)'].str.replace(',','',n=1).astype(float)>=31) & (market_data['No. of Past due (in days)'].str.replace(',','',n=1).astype(float)<=60),\n",
        "              (market_data['No. of Past due (in days)'].str.replace(',','',n=1).astype(float)>=61) & (market_data['No. of Past due (in days)'].str.replace(',','',n=1).astype(float)<=90),\n",
        "              (market_data['No. of Past due (in days)'].str.replace(',','',n=1).astype(float)>=91) & (market_data['No. of Past due (in days)'].str.replace(',','',n=1).astype(float)<=120),\n",
        "              (market_data['No. of Past due (in days)'].str.replace(',','',n=1).astype(float)>=121)\n",
        "\n",
        "\n",
        "]\n",
        "\n",
        "values =['1-30 Days','31-60 Days','61-90 Days','91-120 Days ','Over 120 Days']\n",
        "\n",
        "market_data['group']= np.select(conditions,values)\n",
        "market_data\n",
        "\n",
        "groupby_aging = market_data.groupby('group')\n",
        "df_aging=pd.DataFrame({'counts': groupby_aging.size()})\n",
        "df_aging"
      ],
      "metadata": {
        "cellView": "form",
        "id": "tW8tQsntSOTV",
        "colab": {
          "base_uri": "https://localhost:8080/",
          "height": 112
        },
        "outputId": "455d4061-c897-4229-b51b-dd028a47359e"
      },
      "execution_count": null,
      "outputs": [
        {
          "output_type": "execute_result",
          "data": {
            "text/plain": [
              "               counts\n",
              "group                \n",
              "Over 120 Days     102"
            ],
            "text/html": [
              "\n",
              "  <div id=\"df-afc1269f-9341-4e46-874a-95629761bf7b\">\n",
              "    <div class=\"colab-df-container\">\n",
              "      <div>\n",
              "<style scoped>\n",
              "    .dataframe tbody tr th:only-of-type {\n",
              "        vertical-align: middle;\n",
              "    }\n",
              "\n",
              "    .dataframe tbody tr th {\n",
              "        vertical-align: top;\n",
              "    }\n",
              "\n",
              "    .dataframe thead th {\n",
              "        text-align: right;\n",
              "    }\n",
              "</style>\n",
              "<table border=\"1\" class=\"dataframe\">\n",
              "  <thead>\n",
              "    <tr style=\"text-align: right;\">\n",
              "      <th></th>\n",
              "      <th>counts</th>\n",
              "    </tr>\n",
              "    <tr>\n",
              "      <th>group</th>\n",
              "      <th></th>\n",
              "    </tr>\n",
              "  </thead>\n",
              "  <tbody>\n",
              "    <tr>\n",
              "      <th>Over 120 Days</th>\n",
              "      <td>102</td>\n",
              "    </tr>\n",
              "  </tbody>\n",
              "</table>\n",
              "</div>\n",
              "      <button class=\"colab-df-convert\" onclick=\"convertToInteractive('df-afc1269f-9341-4e46-874a-95629761bf7b')\"\n",
              "              title=\"Convert this dataframe to an interactive table.\"\n",
              "              style=\"display:none;\">\n",
              "        \n",
              "  <svg xmlns=\"http://www.w3.org/2000/svg\" height=\"24px\"viewBox=\"0 0 24 24\"\n",
              "       width=\"24px\">\n",
              "    <path d=\"M0 0h24v24H0V0z\" fill=\"none\"/>\n",
              "    <path d=\"M18.56 5.44l.94 2.06.94-2.06 2.06-.94-2.06-.94-.94-2.06-.94 2.06-2.06.94zm-11 1L8.5 8.5l.94-2.06 2.06-.94-2.06-.94L8.5 2.5l-.94 2.06-2.06.94zm10 10l.94 2.06.94-2.06 2.06-.94-2.06-.94-.94-2.06-.94 2.06-2.06.94z\"/><path d=\"M17.41 7.96l-1.37-1.37c-.4-.4-.92-.59-1.43-.59-.52 0-1.04.2-1.43.59L10.3 9.45l-7.72 7.72c-.78.78-.78 2.05 0 2.83L4 21.41c.39.39.9.59 1.41.59.51 0 1.02-.2 1.41-.59l7.78-7.78 2.81-2.81c.8-.78.8-2.07 0-2.86zM5.41 20L4 18.59l7.72-7.72 1.47 1.35L5.41 20z\"/>\n",
              "  </svg>\n",
              "      </button>\n",
              "      \n",
              "  <style>\n",
              "    .colab-df-container {\n",
              "      display:flex;\n",
              "      flex-wrap:wrap;\n",
              "      gap: 12px;\n",
              "    }\n",
              "\n",
              "    .colab-df-convert {\n",
              "      background-color: #E8F0FE;\n",
              "      border: none;\n",
              "      border-radius: 50%;\n",
              "      cursor: pointer;\n",
              "      display: none;\n",
              "      fill: #1967D2;\n",
              "      height: 32px;\n",
              "      padding: 0 0 0 0;\n",
              "      width: 32px;\n",
              "    }\n",
              "\n",
              "    .colab-df-convert:hover {\n",
              "      background-color: #E2EBFA;\n",
              "      box-shadow: 0px 1px 2px rgba(60, 64, 67, 0.3), 0px 1px 3px 1px rgba(60, 64, 67, 0.15);\n",
              "      fill: #174EA6;\n",
              "    }\n",
              "\n",
              "    [theme=dark] .colab-df-convert {\n",
              "      background-color: #3B4455;\n",
              "      fill: #D2E3FC;\n",
              "    }\n",
              "\n",
              "    [theme=dark] .colab-df-convert:hover {\n",
              "      background-color: #434B5C;\n",
              "      box-shadow: 0px 1px 3px 1px rgba(0, 0, 0, 0.15);\n",
              "      filter: drop-shadow(0px 1px 2px rgba(0, 0, 0, 0.3));\n",
              "      fill: #FFFFFF;\n",
              "    }\n",
              "  </style>\n",
              "\n",
              "      <script>\n",
              "        const buttonEl =\n",
              "          document.querySelector('#df-afc1269f-9341-4e46-874a-95629761bf7b button.colab-df-convert');\n",
              "        buttonEl.style.display =\n",
              "          google.colab.kernel.accessAllowed ? 'block' : 'none';\n",
              "\n",
              "        async function convertToInteractive(key) {\n",
              "          const element = document.querySelector('#df-afc1269f-9341-4e46-874a-95629761bf7b');\n",
              "          const dataTable =\n",
              "            await google.colab.kernel.invokeFunction('convertToInteractive',\n",
              "                                                     [key], {});\n",
              "          if (!dataTable) return;\n",
              "\n",
              "          const docLinkHtml = 'Like what you see? Visit the ' +\n",
              "            '<a target=\"_blank\" href=https://colab.research.google.com/notebooks/data_table.ipynb>data table notebook</a>'\n",
              "            + ' to learn more about interactive tables.';\n",
              "          element.innerHTML = '';\n",
              "          dataTable['output_type'] = 'display_data';\n",
              "          await google.colab.output.renderOutput(dataTable, element);\n",
              "          const docLink = document.createElement('div');\n",
              "          docLink.innerHTML = docLinkHtml;\n",
              "          element.appendChild(docLink);\n",
              "        }\n",
              "      </script>\n",
              "    </div>\n",
              "  </div>\n",
              "  "
            ]
          },
          "metadata": {},
          "execution_count": 13
        }
      ]
    },
    {
      "cell_type": "markdown",
      "source": [
        "#<b> Aging Data Visualization\n"
      ],
      "metadata": {
        "id": "Yixe-ikwM6E3"
      }
    },
    {
      "cell_type": "code",
      "source": [
        "#@title\n",
        "\n",
        "fig, ax = plt.subplots(figsize=(10,8))\n",
        "sns.countplot(data=market_data, x='group', ax=ax, palette = \"Wistia\",order = market_data['group'].value_counts().index)\n",
        "plt.xticks(fontsize=12)\n",
        "plt.yticks(fontsize=12)\n",
        "ax.set_xlabel('Days Interval', fontsize=18)\n",
        "ax.set_ylabel('Number of Accounts', fontsize=18)\n",
        "ax.set_title('Aging', fontsize=20)\n",
        "plt.show()"
      ],
      "metadata": {
        "cellView": "form",
        "id": "YAO30T-Q-sT8",
        "colab": {
          "base_uri": "https://localhost:8080/",
          "height": 529
        },
        "outputId": "aa529a83-9796-4488-ffdf-1cbeb4fcfc0a"
      },
      "execution_count": null,
      "outputs": [
        {
          "output_type": "display_data",
          "data": {
            "text/plain": [
              "<Figure size 720x576 with 1 Axes>"
            ],
            "image/png": "[encoded data removed]"
          },
          "metadata": {
            "needs_background": "light"
          }
        }
      ]
    },
    {
      "cell_type": "markdown",
      "source": [
        "#<b> Summary of Account Officer Performance\n"
      ],
      "metadata": {
        "id": "fVWNunEjcbAl"
      }
    },
    {
      "cell_type": "code",
      "source": [
        "#@title\n",
        "a1_data= pd.DataFrame(market_data[market_data['Account Officer']==\"KRIS\"])\n",
        "a2_data= pd.DataFrame(market_data[market_data['Account Officer']==\"MARY\"])\n",
        "a3_data= pd.DataFrame(market_data[market_data['Account Officer']==\"CELLINI\"])\n",
        "a4_data= pd.DataFrame(market_data[market_data['Account Officer']==\"CALVIN\"])\n",
        "a1_total = a1_data['Project'].count()\n",
        "a2_total = a2_data['Project'].count()\n",
        "a3_total = a3_data['Project'].count()\n",
        "a4_total = a4_data['Project'].count()\n",
        "p_sum= a1_total+a2_total+a3_total+a4_total\n",
        "\n",
        "#Total arrears\n",
        "p1a = a1_data[' Total Arrears '].str.replace(',','',n=1).astype(float).sum()\n",
        "peso1= (format(p1,\",.1f\"))\n",
        "p2a = a2_data[' Total Arrears '].str.replace(',','',n=1).astype(float).sum()\n",
        "peso2= (format(p2,\",.1f\"))\n",
        "p3a = a3_data[' Total Arrears '].str.replace(',','',n=1).astype(float).sum()\n",
        "peso3= (format(p3,\",.1f\"))\n",
        "p0a = a4_data[' Total Arrears '].str.replace(',','',n=1).astype(float).sum()\n",
        "peso0= (format(p0,\",.1f\"))\n",
        "suma = p1a+p2a+p3a+p0a\n",
        "arrears_suma = (format(suma,\",.1f\"))\n",
        "\n",
        "# total penalty\n",
        "pen1_a = a1_data['Penalty (2%)'].str.replace(',','',n=1).astype(float).sum()\n",
        "penalty1_a= (format(pen1_a,\",.1f\"))\n",
        "pen2_a = a2_data['Penalty (2%)'].str.replace(',','',n=1).astype(float).sum()\n",
        "penalty2_a= (format(pen2_a,\",.1f\"))\n",
        "pen3_a = a3_data['Penalty (2%)'].str.replace(',','',n=1).astype(float).sum()\n",
        "penalty3_a= (format(pen3_a,\",.1f\"))\n",
        "pen0_a = a4_data['Penalty (2%)'].str.replace(',','',n=1).astype(float).sum()\n",
        "penalty_a= (format(pen0_a,\",.1f\"))\n",
        "sum_penalty_a = pen1_a+pen2_a+pen3_a+pen0_a\n",
        "sum_pen_a= (format(sum_penalty,\",.1f\"))\n",
        "\n",
        "#Grand total\n",
        "gt1a  = p1a + pen1_a\n",
        "gt_1a = (format(gt1,\",.1f\"))\n",
        "gt2a  = p2a + pen2_a\n",
        "gt_2a = (format(gt2a,\",.1f\"))\n",
        "gt3a  = p3a + pen1_a\n",
        "gt_3a = (format(gt3a,\",.1f\"))\n",
        "gt0a  = p0a + pen0_a\n",
        "gt_0a = (format(gt0a,\",.1f\"))\n",
        "gt_ta = sum + sum_penalty_a\n",
        "gt_totala = (format(gt_ta,\",.1f\"))\n",
        "\n",
        "ao= {\n",
        "  'Account Officer'  :['KRIS','MARY','CELLINI','CALVIN','TOTAL'],\n",
        "  'Number of Accounts Per Officer'  :[a1_total,a2_total,a3_total,a4_total,p_sum],\n",
        "  'Total Past Due Per Officer' : [gt_1a,gt_2a,gt_3a,gt_0a,gt_totala]\n",
        "}\n",
        "df_ao = pd.DataFrame(ao)\n",
        "df_ao.head().style.set_table_styles(\n",
        "    [{'selector': 'th',\n",
        "      'props': [('background','#FFC733'),\n",
        "                ('color','black'),\n",
        "                ('font-family','verdana')]},\n",
        "\n",
        "     {'selector': 'td',\n",
        "       'props':[('font-family','verdana')]},\n",
        "\n",
        "     {'selector': 'tr:nth-of-type(oddd)',\n",
        "      'props':[('background','#DCDCDC')]},\n",
        "\n",
        "     {'selector': 'tr:nth-of-type(even)',\n",
        "      'props':[('background','white')]},\n",
        "\n",
        "      {'selector': 'tr:hover',\n",
        "      'props':[('background-color','#FFFC33 ')]},\n",
        "\n",
        "\n",
        "\n",
        "    ]\n",
        ").hide_index()\n"
      ],
      "metadata": {
        "cellView": "form",
        "id": "Qg98CjatcauQ",
        "colab": {
          "base_uri": "https://localhost:8080/",
          "height": 206
        },
        "outputId": "809f60e5-ecbc-42c3-94bc-32067c08cc7e"
      },
      "execution_count": null,
      "outputs": [
        {
          "output_type": "execute_result",
          "data": {
            "text/plain": [
              "<pandas.io.formats.style.Styler at 0x7fb7a823ba90>"
            ],
            "text/html": [
              "<style type=\"text/css\">\n",
              "#T_25907_ th {\n",
              "  background: #FFC733;\n",
              "  color: black;\n",
              "  font-family: verdana;\n",
              "}\n",
              "#T_25907_ td {\n",
              "  font-family: verdana;\n",
              "}\n",
              "#T_25907_ tr:nth-of-type(oddd) {\n",
              "  background: #DCDCDC;\n",
              "}\n",
              "#T_25907_ tr:nth-of-type(even) {\n",
              "  background: white;\n",
              "}\n",
              "#T_25907_ tr:hover {\n",
              "  background-color: #FFFC33 ;\n",
              "}\n",
              "</style>\n",
              "<table id=\"T_25907_\" class=\"dataframe\">\n",
              "  <thead>\n",
              "    <tr>\n",
              "      <th class=\"col_heading level0 col0\" >Account Officer</th>\n",
              "      <th class=\"col_heading level0 col1\" >Number of Accounts Per Officer</th>\n",
              "      <th class=\"col_heading level0 col2\" >Total Past Due Per Officer</th>\n",
              "    </tr>\n",
              "  </thead>\n",
              "  <tbody>\n",
              "    <tr>\n",
              "      <td id=\"T_25907_row0_col0\" class=\"data row0 col0\" >KRIS</td>\n",
              "      <td id=\"T_25907_row0_col1\" class=\"data row0 col1\" >46</td>\n",
              "      <td id=\"T_25907_row0_col2\" class=\"data row0 col2\" >463,345.0</td>\n",
              "    </tr>\n",
              "    <tr>\n",
              "      <td id=\"T_25907_row1_col0\" class=\"data row1 col0\" >MARY</td>\n",
              "      <td id=\"T_25907_row1_col1\" class=\"data row1 col1\" >7</td>\n",
              "      <td id=\"T_25907_row1_col2\" class=\"data row1 col2\" >706,634.8</td>\n",
              "    </tr>\n",
              "    <tr>\n",
              "      <td id=\"T_25907_row2_col0\" class=\"data row2 col0\" >CELLINI</td>\n",
              "      <td id=\"T_25907_row2_col1\" class=\"data row2 col1\" >16</td>\n",
              "      <td id=\"T_25907_row2_col2\" class=\"data row2 col2\" >1,152,841.0</td>\n",
              "    </tr>\n",
              "    <tr>\n",
              "      <td id=\"T_25907_row3_col0\" class=\"data row3 col0\" >CALVIN</td>\n",
              "      <td id=\"T_25907_row3_col1\" class=\"data row3 col1\" >33</td>\n",
              "      <td id=\"T_25907_row3_col2\" class=\"data row3 col2\" >3,573,179.2</td>\n",
              "    </tr>\n",
              "    <tr>\n",
              "      <td id=\"T_25907_row4_col0\" class=\"data row4 col0\" >TOTAL</td>\n",
              "      <td id=\"T_25907_row4_col1\" class=\"data row4 col1\" >102</td>\n",
              "      <td id=\"T_25907_row4_col2\" class=\"data row4 col2\" >7,616,619.9</td>\n",
              "    </tr>\n",
              "  </tbody>\n",
              "</table>\n"
            ]
          },
          "metadata": {},
          "execution_count": 15
        }
      ]
    },
    {
      "cell_type": "markdown",
      "source": [
        "#<b>Data Visualization of Accounting Officer Performance\n"
      ],
      "metadata": {
        "id": "eFcdVUPqjE17"
      }
    },
    {
      "cell_type": "code",
      "source": [
        "#@title\n",
        "\n",
        "fig, ax = plt.subplots(figsize=(10,8))\n",
        "sns.barplot(\"Account Officer\",\"Number of Accounts Per Officer\", data = df_ao, ax=ax, palette = \"Wistia\")\n",
        "plt.xticks(fontsize=12)\n",
        "plt.yticks(fontsize=12)\n",
        "ax.set_xlabel('Account Officer ', fontsize=18)\n",
        "ax.set_ylabel('Number of Accounts', fontsize=18)\n",
        "ax.set_title('Number of Past Due Accounts per Account Officer ', fontsize=20)\n",
        "plt.text(0,df_ao[ 'Number of Accounts Per Officer' ][0], a1_total, ha= \"center\", va = \"bottom\" )\n",
        "plt.text(1,df_ao[ 'Number of Accounts Per Officer' ][1], a2_total, ha= \"center\", va = \"bottom\" )\n",
        "plt.text(2,df_ao[ 'Number of Accounts Per Officer' ][2], a3_total, ha= \"center\", va = \"bottom\" )\n",
        "plt.text(3,df_ao[ 'Number of Accounts Per Officer' ][3], a4_total, ha= \"center\", va = \"bottom\" )\n",
        "plt.text(4,df_ao[ 'Number of Accounts Per Officer' ][4], p_sum, ha= \"center\", va = \"bottom\" )\n",
        "\n"
      ],
      "metadata": {
        "cellView": "form",
        "id": "N4aNGv7HivB_",
        "colab": {
          "base_uri": "https://localhost:8080/",
          "height": 601
        },
        "outputId": "34b514dc-acc8-4164-b845-76b96fb2b64b"
      },
      "execution_count": null,
      "outputs": [
        {
          "output_type": "stream",
          "name": "stderr",
          "text": [
            "/usr/local/lib/python3.7/dist-packages/seaborn/_decorators.py:43: FutureWarning: Pass the following variables as keyword args: x, y. From version 0.12, the only valid positional argument will be `data`, and passing other arguments without an explicit keyword will result in an error or misinterpretation.\n",
            "  FutureWarning\n"
          ]
        },
        {
          "output_type": "execute_result",
          "data": {
            "text/plain": [
              "Text(4, 102, '102')"
            ]
          },
          "metadata": {},
          "execution_count": 16
        },
        {
          "output_type": "display_data",
          "data": {
            "text/plain": [
              "<Figure size 720x576 with 1 Axes>"
            ],
            "image/png": "[encoded data removed]"
          },
          "metadata": {
            "needs_background": "light"
          }
        }
      ]
    }
  ]
}